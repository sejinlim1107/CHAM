{
  "nbformat": 4,
  "nbformat_minor": 0,
  "metadata": {
    "colab": {
      "name": "previous_CHAM(64/128/256).ipynb",
      "provenance": [],
      "collapsed_sections": []
    },
    "kernelspec": {
      "name": "python3",
      "display_name": "Python 3"
    },
    "language_info": {
      "name": "python"
    }
  },
  "cells": [
    {
      "cell_type": "code",
      "execution_count": 1,
      "metadata": {
        "id": "n6zsGydNBK1n"
      },
      "outputs": [],
      "source": [
        "def ROR(W, i):\n",
        "  return (((W)>>(i)) | ((W)<<(16-(i)))) & 0xffff"
      ]
    },
    {
      "cell_type": "code",
      "source": [
        "def ROL(W, i):\n",
        "  return (((W)<<(i)) | ((W)>>(16-(i)))) & 0xffff"
      ],
      "metadata": {
        "id": "lftj6wjnBrqx"
      },
      "execution_count": 2,
      "outputs": []
    },
    {
      "cell_type": "code",
      "source": [
        "def ROR32(W,i):\n",
        "  return (((W)>>(i)) | ((W)<<(32-(i)))) & 0xffffffff"
      ],
      "metadata": {
        "id": "ObSwq9C9BxEs"
      },
      "execution_count": 34,
      "outputs": []
    },
    {
      "cell_type": "code",
      "source": [
        "def ROL32(W,i): \n",
        "  return (((W)<<(i)) | ((W)>>(32-(i)))) & 0xffffffff"
      ],
      "metadata": {
        "id": "TS4TAD35B0WO"
      },
      "execution_count": 35,
      "outputs": []
    },
    {
      "cell_type": "code",
      "source": [
        "# 이거 구버전임 신버전은 round 수 다름\n",
        "# secret Key : 0x0100 0x0302 0x0504 0x0706 0x0908 0x0b0a 0x0d0c 0x0f0e\n",
        "# plaintext : 0x1100 0x3322 0x5544 0x7766\n",
        "# ciphertext : 0x453c 0x63bc 0xdcfa 0xbf4e"
      ],
      "metadata": {
        "id": "iCHO1jB0B3Wo"
      },
      "execution_count": null,
      "outputs": []
    },
    {
      "cell_type": "code",
      "source": [
        "secretkey64 = [0x0100, 0x0302, 0x0504, 0x0706, 0x0908, 0x0b0a, 0x0d0c, 0x0f0e]\n",
        "plaintext64 = [0x1100, 0x3322, 0x5544, 0x7766]\n",
        "roundkey64= [0,0,0,0,0,0,0,0,0,0,0,0,0,0,0,0]"
      ],
      "metadata": {
        "id": "u5UsAVoNB---"
      },
      "execution_count": 5,
      "outputs": []
    },
    {
      "cell_type": "code",
      "source": [
        "def KeyGen64(RK,K):\n",
        "  for i in range(8):\n",
        "    tmp0 = ROL(K[i],1)\n",
        "    tmp1 = ROL(K[i],8)\n",
        "    tmp2 = ROL(K[i],11)\n",
        "    \n",
        "    RK[i] = (tmp0 ^ tmp1 ^ K[i]) & 0xffff\n",
        "    RK[((i+8)^1)] = (tmp0 ^ tmp2 ^ K[i]) & 0xffff"
      ],
      "metadata": {
        "id": "345elKlnCgeC"
      },
      "execution_count": 6,
      "outputs": []
    },
    {
      "cell_type": "code",
      "source": [
        "def Enc64(X, RK):\n",
        "\tX3 = X[3]\n",
        "\tX2 = X[2]\n",
        "\tX1 = X[1]\n",
        "\tX0 = X[0]\n",
        "\n",
        "\tfor i in range(40):\n",
        "\t\ttmp0 = ROL(X1,1)\n",
        "\t\ttmp1 = (tmp0 ^ RK[2*i % 16]) & 0xffff\n",
        "\t\ttmp2 = (X0^(2*i)) & 0xffff\n",
        "\t\ttmp3 = (tmp1 + tmp2) & 0xffff\n",
        "\t\ttmp4 = ROL(tmp3,8)\n",
        "\n",
        "\t\tX0   = X1\n",
        "\t\tX1   = X2\n",
        "\t\tX2   = X3\n",
        "\t\tX3   = tmp4\n",
        "\n",
        "\t\ttmp0 = ROL(X1,8)\n",
        "\t\ttmp1 = (tmp0 ^ RK[(2*i + 1)% 16]) & 0xffff\n",
        "\t\ttmp2 = (X0^(2*i+1)) & 0xffff\n",
        "\t\ttmp3 = (tmp1 + tmp2) & 0xffff\n",
        "\t\ttmp4 = ROL(tmp3,1)\n",
        "\n",
        "\t\tX0   = X1\n",
        "\t\tX1   = X2\n",
        "\t\tX2   = X3\n",
        "\t\tX3   = tmp4\n",
        "\n",
        "\tX[3] = X3\n",
        "\tX[2] = X2\n",
        "\tX[1] = X1\n",
        "\tX[0] = X0"
      ],
      "metadata": {
        "id": "zxWrJyt5Dh4c"
      },
      "execution_count": 7,
      "outputs": []
    },
    {
      "cell_type": "code",
      "source": [
        "KeyGen64(roundkey64,secretkey64)"
      ],
      "metadata": {
        "id": "rMBsO2mgECFy"
      },
      "execution_count": 8,
      "outputs": []
    },
    {
      "cell_type": "code",
      "source": [
        "Enc64(plaintext64,roundkey64)"
      ],
      "metadata": {
        "id": "UDUcDIHFIVyi"
      },
      "execution_count": 9,
      "outputs": []
    },
    {
      "cell_type": "code",
      "source": [
        "for i in range(4):\n",
        "  plaintext64[i] = hex(plaintext64[i])"
      ],
      "metadata": {
        "id": "rjUBgazSG64U"
      },
      "execution_count": 10,
      "outputs": []
    },
    {
      "cell_type": "code",
      "source": [
        "plaintext64"
      ],
      "metadata": {
        "colab": {
          "base_uri": "https://localhost:8080/"
        },
        "id": "AXAqglOnHNbj",
        "outputId": "53cb44c4-dc34-4f2f-eff7-505293d374e3"
      },
      "execution_count": 11,
      "outputs": [
        {
          "output_type": "execute_result",
          "data": {
            "text/plain": [
              "['0x453c', '0x63bc', '0xdcfa', '0xbf4e']"
            ]
          },
          "metadata": {},
          "execution_count": 11
        }
      ]
    },
    {
      "cell_type": "code",
      "source": [
        "secretkey128 = [0x03020100, 0x07060504, 0x0b0a0908, 0x0f0e0d0c]\n",
        "plaintext128 = [0x33221100, 0x77665544, 0xbbaa9988, 0xffeeddcc]\n",
        "roundkey128 = [0,0,0,0,0,0,0,0]"
      ],
      "metadata": {
        "id": "FzsaBJjCN4Hc"
      },
      "execution_count": 64,
      "outputs": []
    },
    {
      "cell_type": "code",
      "source": [
        "def KeyGen128(RK, K):\n",
        "  for i in range(4):\n",
        "    tmp0 = ROL32(K[i],1)\n",
        "    tmp1 = ROL32(K[i],8)\n",
        "    tmp2 = ROL32(K[i],11)\n",
        "    \n",
        "    RK[i] = (tmp0 ^ tmp1 ^ K[i]) & 0xffffffff\n",
        "    RK[((i+4)^1)] = (tmp0 ^ tmp2 ^ K[i]) & 0xffffffff"
      ],
      "metadata": {
        "id": "nOlrh-EqNY_O"
      },
      "execution_count": 65,
      "outputs": []
    },
    {
      "cell_type": "code",
      "source": [
        "def Enc128(X, RK):\n",
        "  X3 = X[3]\n",
        "  X2 = X[2]\n",
        "  X1 = X[1]\n",
        "  X0 = X[0]\n",
        "  \n",
        "  for i in range(40):\n",
        "    tmp0 = ROL32(X1,1)\n",
        "    tmp1 = (tmp0 ^ RK[2*i % 8]) & 0xffffffff\n",
        "    tmp2 = (X0^(2*i)) & 0xffffffff\n",
        "    tmp3 = (tmp1 + tmp2) & 0xffffffff\n",
        "    tmp4 = ROL32(tmp3,8)\n",
        "\n",
        "    X0   = X1\n",
        "    X1   = X2\n",
        "    X2   = X3\n",
        "    X3   = tmp4\n",
        "    \n",
        "    tmp0 = ROL32(X1,8)\n",
        "    tmp1 = (tmp0 ^ RK[(2*i + 1)% 8]) & 0xffffffff\n",
        "    tmp2 = (X0^(2*i+1)) & 0xffffffff\n",
        "    tmp3 = (tmp1 + tmp2) & 0xffffffff\n",
        "    tmp4 = ROL32(tmp3,1)\n",
        "\n",
        "    X0   = X1\n",
        "    X1   = X2\n",
        "    X2   = X3\n",
        "    X3   = tmp4\n",
        "  \n",
        "  X[3] = X3\n",
        "  X[2] = X2\n",
        "  X[1] = X1\n",
        "  X[0] = X0"
      ],
      "metadata": {
        "id": "TIu6MaA3O1OE"
      },
      "execution_count": 66,
      "outputs": []
    },
    {
      "cell_type": "code",
      "source": [
        "KeyGen128(roundkey128,secretkey128)"
      ],
      "metadata": {
        "id": "K-Z_sDietzaN"
      },
      "execution_count": 67,
      "outputs": []
    },
    {
      "cell_type": "code",
      "source": [
        "#for i in range(8):\n",
        "#  roundkey128[i] = hex(roundkey128[i])"
      ],
      "metadata": {
        "id": "eOhj_l_pDpP3"
      },
      "execution_count": 68,
      "outputs": []
    },
    {
      "cell_type": "code",
      "source": [
        "#roundkey128"
      ],
      "metadata": {
        "id": "0vF6-G3XDxD3"
      },
      "execution_count": 69,
      "outputs": []
    },
    {
      "cell_type": "code",
      "source": [
        "Enc128(plaintext128,roundkey128)"
      ],
      "metadata": {
        "id": "8oAcu-gztzaO"
      },
      "execution_count": 70,
      "outputs": []
    },
    {
      "cell_type": "code",
      "source": [
        "for i in range(4):\n",
        "  plaintext128[i] = hex(plaintext128[i])"
      ],
      "metadata": {
        "id": "iZQE-cpftzaO"
      },
      "execution_count": 71,
      "outputs": []
    },
    {
      "cell_type": "code",
      "source": [
        "plaintext128"
      ],
      "metadata": {
        "colab": {
          "base_uri": "https://localhost:8080/"
        },
        "outputId": "ee0c2999-7c9c-4124-83c0-f86cb01cea9c",
        "id": "3QJrwQ53tzaO"
      },
      "execution_count": 72,
      "outputs": [
        {
          "output_type": "execute_result",
          "data": {
            "text/plain": [
              "['0xc3746034', '0xb55700c5', '0x8d64ec32', '0x489332f7']"
            ]
          },
          "metadata": {},
          "execution_count": 72
        }
      ]
    },
    {
      "cell_type": "code",
      "source": [
        "secretkey256 = [0x03020100, 0x07060504, 0x0b0a0908, 0x0f0e0d0c, 0xf3f2f1f0, 0xf7f6f5f4, 0xfbfaf9f8, 0xfffefdfc]\n",
        "plaintext256 = [0x33221100, 0x77665544, 0xbbaa9988, 0xffeeddcc]\n",
        "roundkey256 = [0,0,0,0,0,0,0,0,0,0,0,0,0,0,0,0]"
      ],
      "metadata": {
        "id": "6kkCbZQ4Tm7E"
      },
      "execution_count": 81,
      "outputs": []
    },
    {
      "cell_type": "code",
      "source": [
        "def KeyGen256(RK, K):\n",
        "  for i in range(8):\n",
        "    tmp0 = ROL32(K[i],1)\n",
        "    tmp1 = ROL32(K[i],8)\n",
        "    tmp2 = ROL32(K[i],11)\n",
        "    \n",
        "    RK[i] = (tmp0 ^ tmp1 ^ K[i]) & 0xffffffff\n",
        "    RK[((i+8)^1)] = (tmp0 ^ tmp2 ^ K[i]) & 0xffffffff"
      ],
      "metadata": {
        "id": "oj_IhmaJT_cV"
      },
      "execution_count": 82,
      "outputs": []
    },
    {
      "cell_type": "code",
      "source": [
        "def Enc256(X, RK):\n",
        "  X3 = X[3]\n",
        "  X2 = X[2]\n",
        "  X1 = X[1]\n",
        "  X0 = X[0]\n",
        "\n",
        "  for i in range(48):\n",
        "    tmp0 = ROL32(X1,1)\n",
        "    tmp1 = (tmp0 ^ RK[2*i % 16]) & 0xffffffff\n",
        "    tmp2 = (X0^(2*i)) & 0xffffffff\n",
        "    tmp3 = (tmp1 + tmp2) & 0xffffffff\n",
        "    tmp4 = ROL32(tmp3,8)\n",
        "    \n",
        "    X0   = X1\n",
        "    X1   = X2\n",
        "    X2   = X3\n",
        "    X3   = tmp4\n",
        "    \n",
        "    tmp0 = ROL32(X1,8)\n",
        "    tmp1 = (tmp0 ^ RK[(2*i + 1)% 16]) & 0xffffffff\n",
        "    tmp2 = (X0^(2*i+1)) & 0xffffffff\n",
        "    tmp3 = (tmp1 + tmp2) & 0xffffffff\n",
        "    tmp4 = ROL32(tmp3,1)\n",
        "    \n",
        "    X0   = X1\n",
        "    X1   = X2\n",
        "    X2   = X3\n",
        "    X3   = tmp4\n",
        "    \n",
        "  X[3] = X3\n",
        "  X[2] = X2\n",
        "  X[1] = X1\n",
        "  X[0] = X0"
      ],
      "metadata": {
        "id": "kH9Xe2NGUOiu"
      },
      "execution_count": 83,
      "outputs": []
    },
    {
      "cell_type": "code",
      "source": [
        "KeyGen256(roundkey256,secretkey256)"
      ],
      "metadata": {
        "id": "703OjAVDceU-"
      },
      "execution_count": 84,
      "outputs": []
    },
    {
      "cell_type": "code",
      "source": [
        "Enc256(plaintext256,roundkey256)"
      ],
      "metadata": {
        "id": "oa9kD4geceN8"
      },
      "execution_count": 85,
      "outputs": []
    },
    {
      "cell_type": "code",
      "source": [
        "for i in range(4):\n",
        "  plaintext256[i] = hex(plaintext256[i])"
      ],
      "metadata": {
        "id": "Aap--iFrcXzf"
      },
      "execution_count": 86,
      "outputs": []
    },
    {
      "cell_type": "code",
      "source": [
        "plaintext256"
      ],
      "metadata": {
        "colab": {
          "base_uri": "https://localhost:8080/"
        },
        "outputId": "085525f1-fe26-4372-d0f5-4ae2002d77a7",
        "id": "lUIDBy2-cXzg"
      },
      "execution_count": 87,
      "outputs": [
        {
          "output_type": "execute_result",
          "data": {
            "text/plain": [
              "['0xa899c8a0', '0xc929d55c', '0xab670d38', '0xc4f7ac8']"
            ]
          },
          "metadata": {},
          "execution_count": 87
        }
      ]
    }
  ]
}