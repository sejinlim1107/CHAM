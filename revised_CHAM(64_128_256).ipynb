{
  "nbformat": 4,
  "nbformat_minor": 0,
  "metadata": {
    "colab": {
      "name": "revised_CHAM(64/128/256).ipynb",
      "provenance": [],
      "collapsed_sections": []
    },
    "kernelspec": {
      "name": "python3",
      "display_name": "Python 3"
    },
    "language_info": {
      "name": "python"
    }
  },
  "cells": [
    {
      "cell_type": "code",
      "execution_count": 1,
      "metadata": {
        "id": "n6zsGydNBK1n"
      },
      "outputs": [],
      "source": [
        "def ROR(W, i):\n",
        "  return (((W)>>(i)) | ((W)<<(16-(i)))) & 0xffff"
      ]
    },
    {
      "cell_type": "code",
      "source": [
        "def ROL(W, i):\n",
        "  return (((W)<<(i)) | ((W)>>(16-(i)))) & 0xffff"
      ],
      "metadata": {
        "id": "lftj6wjnBrqx"
      },
      "execution_count": 2,
      "outputs": []
    },
    {
      "cell_type": "code",
      "source": [
        "def ROR32(W,i):\n",
        "  return (((W)>>(i)) | ((W)<<(32-(i)))) & 0xffffffff"
      ],
      "metadata": {
        "id": "ObSwq9C9BxEs"
      },
      "execution_count": 3,
      "outputs": []
    },
    {
      "cell_type": "code",
      "source": [
        "def ROL32(W,i): \n",
        "  return (((W)<<(i)) | ((W)>>(32-(i)))) & 0xffffffff"
      ],
      "metadata": {
        "id": "TS4TAD35B0WO"
      },
      "execution_count": 4,
      "outputs": []
    },
    {
      "cell_type": "code",
      "source": [
        "# Test Vector\n",
        "# secret Key : 0x0100 0x0302 0x0504 0x0706 0x0908 0x0b0a 0x0d0c 0x0f0e\n",
        "# plaintext : 0x1100 0x3322 0x5544 0x7766\n",
        "# ciphertext : 0x6579 0x1204 0x123f 0xe5a9"
      ],
      "metadata": {
        "id": "iCHO1jB0B3Wo"
      },
      "execution_count": 6,
      "outputs": []
    },
    {
      "cell_type": "code",
      "source": [
        "secretkey64 = [0x0100, 0x0302, 0x0504, 0x0706, 0x0908, 0x0b0a, 0x0d0c, 0x0f0e]\n",
        "plaintext64 = [0x1100, 0x3322, 0x5544, 0x7766]\n",
        "roundkey64= [0,0,0,0,0,0,0,0,0,0,0,0,0,0,0,0]"
      ],
      "metadata": {
        "id": "u5UsAVoNB---"
      },
      "execution_count": 7,
      "outputs": []
    },
    {
      "cell_type": "code",
      "source": [
        "def KeyGen64(RK,K):\n",
        "  for i in range(8):\n",
        "    tmp0 = ROL(K[i],1)\n",
        "    tmp1 = ROL(K[i],8)\n",
        "    tmp2 = ROL(K[i],11)\n",
        "    \n",
        "    RK[i] = (tmp0 ^ tmp1 ^ K[i]) & 0xffff\n",
        "    RK[((i+8)^1)] = (tmp0 ^ tmp2 ^ K[i]) & 0xffff"
      ],
      "metadata": {
        "id": "345elKlnCgeC"
      },
      "execution_count": 8,
      "outputs": []
    },
    {
      "cell_type": "code",
      "source": [
        "def Enc64(X, RK):\n",
        "\tX3 = X[3]\n",
        "\tX2 = X[2]\n",
        "\tX1 = X[1]\n",
        "\tX0 = X[0]\n",
        "\n",
        "\tfor i in range(44):\n",
        "\t\ttmp0 = ROL(X1,1)\n",
        "\t\ttmp1 = (tmp0 ^ RK[2*i % 16]) & 0xffff\n",
        "\t\ttmp2 = (X0^(2*i)) & 0xffff\n",
        "\t\ttmp3 = (tmp1 + tmp2) & 0xffff\n",
        "\t\ttmp4 = ROL(tmp3,8)\n",
        "\n",
        "\t\tX0   = X1\n",
        "\t\tX1   = X2\n",
        "\t\tX2   = X3\n",
        "\t\tX3   = tmp4\n",
        "\n",
        "\t\ttmp0 = ROL(X1,8)\n",
        "\t\ttmp1 = (tmp0 ^ RK[(2*i + 1)% 16]) & 0xffff\n",
        "\t\ttmp2 = (X0^(2*i+1)) & 0xffff\n",
        "\t\ttmp3 = (tmp1 + tmp2) & 0xffff\n",
        "\t\ttmp4 = ROL(tmp3,1)\n",
        "\n",
        "\t\tX0   = X1\n",
        "\t\tX1   = X2\n",
        "\t\tX2   = X3\n",
        "\t\tX3   = tmp4\n",
        "\n",
        "\tX[3] = X3\n",
        "\tX[2] = X2\n",
        "\tX[1] = X1\n",
        "\tX[0] = X0"
      ],
      "metadata": {
        "id": "zxWrJyt5Dh4c"
      },
      "execution_count": 9,
      "outputs": []
    },
    {
      "cell_type": "code",
      "source": [
        "KeyGen64(roundkey64,secretkey64)"
      ],
      "metadata": {
        "id": "rMBsO2mgECFy"
      },
      "execution_count": 10,
      "outputs": []
    },
    {
      "cell_type": "code",
      "source": [
        "Enc64(plaintext64,roundkey64)"
      ],
      "metadata": {
        "id": "UDUcDIHFIVyi"
      },
      "execution_count": 11,
      "outputs": []
    },
    {
      "cell_type": "code",
      "source": [
        "for i in range(4):\n",
        "  plaintext64[i] = hex(plaintext64[i])"
      ],
      "metadata": {
        "id": "rjUBgazSG64U"
      },
      "execution_count": 12,
      "outputs": []
    },
    {
      "cell_type": "code",
      "source": [
        "plaintext64"
      ],
      "metadata": {
        "colab": {
          "base_uri": "https://localhost:8080/"
        },
        "id": "AXAqglOnHNbj",
        "outputId": "d9849ba3-6bdb-421d-b729-345717a1d63b"
      },
      "execution_count": 13,
      "outputs": [
        {
          "output_type": "execute_result",
          "data": {
            "text/plain": [
              "['0x6579', '0x1204', '0x123f', '0xe5a9']"
            ]
          },
          "metadata": {},
          "execution_count": 13
        }
      ]
    },
    {
      "cell_type": "code",
      "source": [
        "# Test Vector\n",
        "# secret Key : 0x03020100 0x07060504 0x0b0a0908 0x0f0e0d0c \n",
        "# plaintext : 0x33221100 0x77665544 0xbbaa9988 0xffeeddcc \n",
        "# ciphertext : 0xd05419ee 0x9f118f4c 0x99e36469 0x1c885ec1"
      ],
      "metadata": {
        "id": "Ocg4-I8Jjyqg"
      },
      "execution_count": null,
      "outputs": []
    },
    {
      "cell_type": "code",
      "source": [
        "secretkey128 = [0x03020100, 0x07060504, 0x0b0a0908, 0x0f0e0d0c]\n",
        "plaintext128 = [0x33221100, 0x77665544, 0xbbaa9988, 0xffeeddcc]\n",
        "roundkey128 = [0,0,0,0,0,0,0,0]"
      ],
      "metadata": {
        "id": "FzsaBJjCN4Hc"
      },
      "execution_count": 14,
      "outputs": []
    },
    {
      "cell_type": "code",
      "source": [
        "def KeyGen128(RK, K):\n",
        "  for i in range(4):\n",
        "    tmp0 = ROL32(K[i],1)\n",
        "    tmp1 = ROL32(K[i],8)\n",
        "    tmp2 = ROL32(K[i],11)\n",
        "    \n",
        "    RK[i] = (tmp0 ^ tmp1 ^ K[i]) & 0xffffffff\n",
        "    RK[((i+4)^1)] = (tmp0 ^ tmp2 ^ K[i]) & 0xffffffff"
      ],
      "metadata": {
        "id": "nOlrh-EqNY_O"
      },
      "execution_count": 15,
      "outputs": []
    },
    {
      "cell_type": "code",
      "source": [
        "def Enc128(X, RK):\n",
        "  X3 = X[3]\n",
        "  X2 = X[2]\n",
        "  X1 = X[1]\n",
        "  X0 = X[0]\n",
        "  \n",
        "  for i in range(56):\n",
        "    tmp0 = ROL32(X1,1)\n",
        "    tmp1 = (tmp0 ^ RK[2*i % 8]) & 0xffffffff\n",
        "    tmp2 = (X0^(2*i)) & 0xffffffff\n",
        "    tmp3 = (tmp1 + tmp2) & 0xffffffff\n",
        "    tmp4 = ROL32(tmp3,8)\n",
        "\n",
        "    X0   = X1\n",
        "    X1   = X2\n",
        "    X2   = X3\n",
        "    X3   = tmp4\n",
        "    \n",
        "    tmp0 = ROL32(X1,8)\n",
        "    tmp1 = (tmp0 ^ RK[(2*i + 1)% 8]) & 0xffffffff\n",
        "    tmp2 = (X0^(2*i+1)) & 0xffffffff\n",
        "    tmp3 = (tmp1 + tmp2) & 0xffffffff\n",
        "    tmp4 = ROL32(tmp3,1)\n",
        "\n",
        "    X0   = X1\n",
        "    X1   = X2\n",
        "    X2   = X3\n",
        "    X3   = tmp4\n",
        "  \n",
        "  X[3] = X3\n",
        "  X[2] = X2\n",
        "  X[1] = X1\n",
        "  X[0] = X0"
      ],
      "metadata": {
        "id": "TIu6MaA3O1OE"
      },
      "execution_count": 16,
      "outputs": []
    },
    {
      "cell_type": "code",
      "source": [
        "KeyGen128(roundkey128,secretkey128)"
      ],
      "metadata": {
        "id": "K-Z_sDietzaN"
      },
      "execution_count": 17,
      "outputs": []
    },
    {
      "cell_type": "code",
      "source": [
        "#for i in range(8):\n",
        "#  roundkey128[i] = hex(roundkey128[i])"
      ],
      "metadata": {
        "id": "eOhj_l_pDpP3"
      },
      "execution_count": null,
      "outputs": []
    },
    {
      "cell_type": "code",
      "source": [
        "#roundkey128"
      ],
      "metadata": {
        "id": "0vF6-G3XDxD3"
      },
      "execution_count": null,
      "outputs": []
    },
    {
      "cell_type": "code",
      "source": [
        "Enc128(plaintext128,roundkey128)"
      ],
      "metadata": {
        "id": "8oAcu-gztzaO"
      },
      "execution_count": 18,
      "outputs": []
    },
    {
      "cell_type": "code",
      "source": [
        "for i in range(4):\n",
        "  plaintext128[i] = hex(plaintext128[i])"
      ],
      "metadata": {
        "id": "iZQE-cpftzaO"
      },
      "execution_count": 19,
      "outputs": []
    },
    {
      "cell_type": "code",
      "source": [
        "plaintext128"
      ],
      "metadata": {
        "colab": {
          "base_uri": "https://localhost:8080/"
        },
        "outputId": "e968b3a5-834b-4d15-bf4d-2219f4a55135",
        "id": "3QJrwQ53tzaO"
      },
      "execution_count": 20,
      "outputs": [
        {
          "output_type": "execute_result",
          "data": {
            "text/plain": [
              "['0xd05419ee', '0x9f118f4c', '0x99e36469', '0x1c885ec1']"
            ]
          },
          "metadata": {},
          "execution_count": 20
        }
      ]
    },
    {
      "cell_type": "code",
      "source": [
        "# Test Vector\n",
        "# secret Key : 0x03020100 0x07060504 0x0b0a0908 0x0f0e0d0c\n",
        "#              0xf3f2f1f0 0xf7f6f5f4 0xfbfaf9f8 0xfffefdfc\n",
        "# plaintext  : 0x33221100 0x77665544 0xbbaa9988 0xffeeddcc\n",
        "# ciphertext : 0x027377dc 0x120b5651 0x8f839b95 0x5e5ec075"
      ],
      "metadata": {
        "id": "WT49nHckj-nG"
      },
      "execution_count": null,
      "outputs": []
    },
    {
      "cell_type": "code",
      "source": [
        "secretkey256 = [0x03020100, 0x07060504, 0x0b0a0908, 0x0f0e0d0c, 0xf3f2f1f0, 0xf7f6f5f4, 0xfbfaf9f8, 0xfffefdfc]\n",
        "plaintext256 = [0x33221100, 0x77665544, 0xbbaa9988, 0xffeeddcc]\n",
        "roundkey256 = [0,0,0,0,0,0,0,0,0,0,0,0,0,0,0,0]"
      ],
      "metadata": {
        "id": "6kkCbZQ4Tm7E"
      },
      "execution_count": 21,
      "outputs": []
    },
    {
      "cell_type": "code",
      "source": [
        "def KeyGen256(RK, K):\n",
        "  for i in range(8):\n",
        "    tmp0 = ROL32(K[i],1)\n",
        "    tmp1 = ROL32(K[i],8)\n",
        "    tmp2 = ROL32(K[i],11)\n",
        "    \n",
        "    RK[i] = (tmp0 ^ tmp1 ^ K[i]) & 0xffffffff\n",
        "    RK[((i+8)^1)] = (tmp0 ^ tmp2 ^ K[i]) & 0xffffffff"
      ],
      "metadata": {
        "id": "oj_IhmaJT_cV"
      },
      "execution_count": 22,
      "outputs": []
    },
    {
      "cell_type": "code",
      "source": [
        "def Enc256(X, RK):\n",
        "  X3 = X[3]\n",
        "  X2 = X[2]\n",
        "  X1 = X[1]\n",
        "  X0 = X[0]\n",
        "\n",
        "  for i in range(60):\n",
        "    tmp0 = ROL32(X1,1)\n",
        "    tmp1 = (tmp0 ^ RK[2*i % 16]) & 0xffffffff\n",
        "    tmp2 = (X0^(2*i)) & 0xffffffff\n",
        "    tmp3 = (tmp1 + tmp2) & 0xffffffff\n",
        "    tmp4 = ROL32(tmp3,8)\n",
        "    \n",
        "    X0   = X1\n",
        "    X1   = X2\n",
        "    X2   = X3\n",
        "    X3   = tmp4\n",
        "    \n",
        "    tmp0 = ROL32(X1,8)\n",
        "    tmp1 = (tmp0 ^ RK[(2*i + 1)% 16]) & 0xffffffff\n",
        "    tmp2 = (X0^(2*i+1)) & 0xffffffff\n",
        "    tmp3 = (tmp1 + tmp2) & 0xffffffff\n",
        "    tmp4 = ROL32(tmp3,1)\n",
        "    \n",
        "    X0   = X1\n",
        "    X1   = X2\n",
        "    X2   = X3\n",
        "    X3   = tmp4\n",
        "    \n",
        "  X[3] = X3\n",
        "  X[2] = X2\n",
        "  X[1] = X1\n",
        "  X[0] = X0"
      ],
      "metadata": {
        "id": "kH9Xe2NGUOiu"
      },
      "execution_count": 23,
      "outputs": []
    },
    {
      "cell_type": "code",
      "source": [
        "KeyGen256(roundkey256,secretkey256)"
      ],
      "metadata": {
        "id": "703OjAVDceU-"
      },
      "execution_count": 24,
      "outputs": []
    },
    {
      "cell_type": "code",
      "source": [
        "Enc256(plaintext256,roundkey256)"
      ],
      "metadata": {
        "id": "oa9kD4geceN8"
      },
      "execution_count": 25,
      "outputs": []
    },
    {
      "cell_type": "code",
      "source": [
        "for i in range(4):\n",
        "  plaintext256[i] = hex(plaintext256[i])"
      ],
      "metadata": {
        "id": "Aap--iFrcXzf"
      },
      "execution_count": 26,
      "outputs": []
    },
    {
      "cell_type": "code",
      "source": [
        "plaintext256"
      ],
      "metadata": {
        "colab": {
          "base_uri": "https://localhost:8080/"
        },
        "outputId": "cade8dab-0bad-4b78-a16b-bce359808094",
        "id": "lUIDBy2-cXzg"
      },
      "execution_count": 27,
      "outputs": [
        {
          "output_type": "execute_result",
          "data": {
            "text/plain": [
              "['0x27377dc', '0x120b5651', '0x8f839b95', '0x5e5ec075']"
            ]
          },
          "metadata": {},
          "execution_count": 27
        }
      ]
    }
  ]
}